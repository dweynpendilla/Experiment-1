{
 "cells": [
  {
   "cell_type": "markdown",
   "id": "2a4783e9-7224-4501-8665-49b36059392e",
   "metadata": {},
   "source": [
    "# 2ECE-C | PENDILLA, DWAYNE | EXPERIMENT 1"
   ]
  },
  {
   "cell_type": "markdown",
   "id": "6d69f34f-dfe2-464e-a8f7-a5aa41cd1cd9",
   "metadata": {},
   "source": [
    "### ALPHABET SOUP PROBLEM: Create a function that takes a string and returns a string with its letters in alphabetical order."
   ]
  },
  {
   "cell_type": "code",
   "execution_count": 45,
   "id": "e5c2a8ad-e925-44cc-95e6-83ca1bcb5a39",
   "metadata": {},
   "outputs": [
    {
     "name": "stdout",
     "output_type": "stream",
     "text": [
      "Original String: hello\n"
     ]
    }
   ],
   "source": [
    "alphabet_soup = \"hello\"\n",
    "print(\"Original String: \" + str(alphabet_soup))"
   ]
  },
  {
   "cell_type": "code",
   "execution_count": 51,
   "id": "77131549-9cfd-4476-9366-355ab1ee85ea",
   "metadata": {},
   "outputs": [
    {
     "name": "stdout",
     "output_type": "stream",
     "text": [
      "Sorted String: ehllo\n"
     ]
    }
   ],
   "source": [
    "res = ''.join(sorted(alphabet_soup))\n",
    "print(\"Sorted String: \" +  str(res))"
   ]
  },
  {
   "cell_type": "markdown",
   "id": "add94f5b-3edd-4c86-a9b2-dc2549fa3c59",
   "metadata": {},
   "source": [
    "### EMOTICON PROBLEM: Create a function that changes specific words into emoticons. Given a sentence as a string, replace the words smile, grin, sad and mad with their corresponding emoticon."
   ]
  },
  {
   "cell_type": "code",
   "execution_count": 43,
   "id": "08934897-54bb-406f-a121-92257fd9096f",
   "metadata": {},
   "outputs": [
    {
     "data": {
      "text/plain": [
       "'You make me smile and grin'"
      ]
     },
     "execution_count": 43,
     "metadata": {},
     "output_type": "execute_result"
    }
   ],
   "source": [
    "s1 = \"You make me smile and grin\"\n",
    "s1"
   ]
  },
  {
   "cell_type": "code",
   "execution_count": 163,
   "id": "582f8844-a4ff-4508-af1d-2d1aea8ca23c",
   "metadata": {},
   "outputs": [
    {
     "data": {
      "text/plain": [
       "'You make me :) and :D'"
      ]
     },
     "execution_count": 163,
     "metadata": {},
     "output_type": "execute_result"
    }
   ],
   "source": [
    "s2 = s1.replace(\"smile\", \":)\")\n",
    "s2.replace(\"grin\", \":D\")"
   ]
  },
  {
   "cell_type": "code",
   "execution_count": 62,
   "id": "5aaca0ce-0aad-44e3-ad27-fb6e7b6b3fe3",
   "metadata": {},
   "outputs": [
    {
     "data": {
      "text/plain": [
       "\"I'm sad and mad at the same time\""
      ]
     },
     "execution_count": 62,
     "metadata": {},
     "output_type": "execute_result"
    }
   ],
   "source": [
    "s3 = \"I'm sad and mad at the same time\"\n",
    "s3"
   ]
  },
  {
   "cell_type": "code",
   "execution_count": 159,
   "id": "bca76b6d-05ad-46b9-940e-479cd0995655",
   "metadata": {},
   "outputs": [
    {
     "data": {
      "text/plain": [
       "\"I'm :(( and >:( at the same time\""
      ]
     },
     "execution_count": 159,
     "metadata": {},
     "output_type": "execute_result"
    }
   ],
   "source": [
    "s4 = s3.replace(\"sad\", \":((\")\n",
    "s4.replace(\"mad\", \">:(\")"
   ]
  },
  {
   "cell_type": "markdown",
   "id": "8b1294da-ed8b-4e95-a96d-15ef1543f183",
   "metadata": {},
   "source": [
    "### UNPACKING LIST PROBLEM: Unpack the list \"writeyourcodehere\" into three variables, being first, middle, and last, with middle being everything in between the first and last element. Then print all three variables.s."
   ]
  },
  {
   "cell_type": "code",
   "execution_count": 37,
   "id": "fd34d5c0-d5d9-4b1b-842a-1c24ae67ce04",
   "metadata": {},
   "outputs": [
    {
     "data": {
      "text/plain": [
       "[1, 2, 3, 4, 5, 6]"
      ]
     },
     "execution_count": 37,
     "metadata": {},
     "output_type": "execute_result"
    }
   ],
   "source": [
    "writeyourcodehere = [1, 2, 3, 4, 5, 6]\n",
    "writeyourcodehere"
   ]
  },
  {
   "cell_type": "code",
   "execution_count": 45,
   "id": "64ee5d50-cff6-4596-8e0f-4c01d4285421",
   "metadata": {},
   "outputs": [
    {
     "name": "stdout",
     "output_type": "stream",
     "text": [
      "first: 1 || middle: [2, 3, 4, 5] || last: 6\n"
     ]
    }
   ],
   "source": [
    "first = writeyourcodehere[0]\n",
    "middle = writeyourcodehere[1:-1]\n",
    "last = writeyourcodehere[-1]\n",
    "\n",
    "print(\"first: \" + str(first) + \" || middle: \" + str(middle) + \" || last: \" + str(last))"
   ]
  },
  {
   "cell_type": "markdown",
   "id": "f2acf510-a464-4846-a0a6-aeeb6e1c9621",
   "metadata": {},
   "source": [
    "## Thank you!"
   ]
  },
  {
   "cell_type": "code",
   "execution_count": null,
   "id": "85e8eb3a-2288-4c72-9abe-59ca70ff5c00",
   "metadata": {},
   "outputs": [],
   "source": []
  }
 ],
 "metadata": {
  "kernelspec": {
   "display_name": "Python 3 (ipykernel)",
   "language": "python",
   "name": "python3"
  },
  "language_info": {
   "codemirror_mode": {
    "name": "ipython",
    "version": 3
   },
   "file_extension": ".py",
   "mimetype": "text/x-python",
   "name": "python",
   "nbconvert_exporter": "python",
   "pygments_lexer": "ipython3",
   "version": "3.12.4"
  }
 },
 "nbformat": 4,
 "nbformat_minor": 5
}
